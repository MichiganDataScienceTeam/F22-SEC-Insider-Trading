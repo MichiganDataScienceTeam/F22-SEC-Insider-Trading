{
 "cells": [
  {
   "cell_type": "code",
   "execution_count": null,
   "metadata": {},
   "outputs": [],
   "source": [
    "import pandas as pd\n",
    "import numpy as np\n",
    "# New import\n",
    "import requests\n",
    "import datetime"
   ]
  },
  {
   "cell_type": "code",
   "execution_count": null,
   "metadata": {},
   "outputs": [],
   "source": [
    "file_name = \"data-txn-price-t36.json\"\n",
    "# Change relative file directory to match where the data is\n",
    "data_path = \"../../data/\"\n",
    "data_directory = data_path + file_name\n",
    "data = pd.read_json(data_directory)"
   ]
  },
  {
   "cell_type": "code",
   "execution_count": null,
   "metadata": {},
   "outputs": [],
   "source": [
    "# Extra for Type-Casting columns and/or adding return columns\n"
   ]
  },
  {
   "cell_type": "markdown",
   "metadata": {},
   "source": [
    "## What type of insider peforms the best\n",
    "\n",
    "Investigate Director/Officer/10% Owner/Other"
   ]
  },
  {
   "cell_type": "code",
   "execution_count": null,
   "metadata": {},
   "outputs": [],
   "source": []
  },
  {
   "cell_type": "markdown",
   "metadata": {},
   "source": [
    "## Do trades of tickers with dirty values have different returns\n",
    "\n",
    "Look at purchases of stocks that have dirty ticker values. Can find them by finding rows with all NA's for price data"
   ]
  },
  {
   "cell_type": "code",
   "execution_count": null,
   "metadata": {},
   "outputs": [],
   "source": []
  },
  {
   "cell_type": "markdown",
   "metadata": {},
   "source": [
    "## Does Transaction Code correlate with Returns?  \n",
    "Be careful evaluating acquired and disposed trades together.  \n",
    "Validate the values of the transaction codes before you do your analysis"
   ]
  },
  {
   "cell_type": "code",
   "execution_count": null,
   "metadata": {},
   "outputs": [],
   "source": []
  }
 ],
 "metadata": {
  "kernelspec": {
   "display_name": "Python 3.10.0 64-bit",
   "language": "python",
   "name": "python3"
  },
  "language_info": {
   "name": "python",
   "version": "3.10.0"
  },
  "orig_nbformat": 4,
  "vscode": {
   "interpreter": {
    "hash": "10fe980b588d73b2b03b72e721710114981397b7641bc516b8a31d37b3e9b4e8"
   }
  }
 },
 "nbformat": 4,
 "nbformat_minor": 2
}
