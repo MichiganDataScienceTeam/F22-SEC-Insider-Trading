{
 "cells": [
  {
   "cell_type": "code",
   "execution_count": 1,
   "metadata": {},
   "outputs": [],
   "source": [
    "import pandas as pd\n",
    "import numpy as np"
   ]
  },
  {
   "cell_type": "code",
   "execution_count": 2,
   "metadata": {},
   "outputs": [],
   "source": [
    "# Read Data\n",
    "file_name = \"2020-qtr1-form4-raw.json\"\n",
    "data_directory = f\"data/{file_name}\"\n",
    "\n",
    "data = pd.read_json(data_directory)"
   ]
  },
  {
   "cell_type": "code",
   "execution_count": 29,
   "metadata": {},
   "outputs": [],
   "source": [
    "# Add Helpful Column\n",
    "def addTxnDesc(df):\n",
    "    '''\n",
    "    Match code to description from SEC Form 4 instructions\n",
    "    Instructions: https://www.sec.gov/about/forms/form4data.pdf\n",
    "\n",
    "    '''\n",
    "\n",
    "    transDict = {\n",
    "        # General Transaction Codes\n",
    "        'P':'Open market or private purchase of non-derivative or derivative security',\n",
    "        'S':'Open market or private sale of non-derivative or derivative security',\n",
    "        'V':'Transaction Voluntarily reported earlier than required',\n",
    "        # Rule 16b-3 Transaction Codes\n",
    "        'A':'Grant, award or other acquisition pursuant to Rule 16b-3(d)',\n",
    "        'D':'Disposition to the issuer of issuer equity securities pursuant to Rule 16b-3(e)',\n",
    "        'F':'Payment of exercise price or tax liability by delivering or witholding securities incident to receipt, exercise or vesting of a security issued in accordance with Rule 16b-3',\n",
    "        'I':'Discretionary transaction in accordance with Rule 16b-3(f) resulting in acquisition or disposition of issuer securities',\n",
    "        'M':'Exercise or conversion of derivative security exempted pursuant to Rule 16b-3',\n",
    "        # Derivative Securities Codes (Except for transactions exempted pursuant to Rule 16b-3)\n",
    "        'C': 'Conversion of derivative security',\n",
    "        'E': 'Expiration of short derivative position',\n",
    "        'H': 'Expiration (or cancellation) of long derivative position with value received',\n",
    "        'O': 'Exercise of out-of-the-money derivative security',\n",
    "        'X': 'Exercise of in-the-money or at-the-money derivative security',\n",
    "        # Other Section 16(b) Exempt Transaction and Small Acquisition Codes (except for Rule 16b-3 codes above)\n",
    "        'G':'Bona fide gift',\n",
    "        'L':'Small acquisition under Rule 16a-6',\n",
    "        'W':'Acquisition or disposition by will or the laws of descent and distribution',\n",
    "        'Z':'Deposit into or withdrawal from voting trust',\n",
    "        # Other Transaction Codes\n",
    "        'J':'Other acquisition or dispotition (describe transaction)',\n",
    "        'K':'Transaction in equity swap or instrument with similar characteristics',\n",
    "        'U':'Disposition pursuant to a tender of shares in a change of control transaction'\n",
    "    }\n",
    "    for key in transDict:\n",
    "        df.loc[df['Transaction Code'] == key,'Transaction Description'] = transDict[key]\n",
    "\n",
    "    return df\n",
    "\n",
    "data = addTxnDesc(data)"
   ]
  },
  {
   "cell_type": "code",
   "execution_count": 30,
   "metadata": {},
   "outputs": [
    {
     "data": {
      "text/plain": [
       "[]"
      ]
     },
     "execution_count": 30,
     "metadata": {},
     "output_type": "execute_result"
    }
   ],
   "source": [
    "# Investigate missing Transaction Descriptions\n",
    "\n",
    "\n",
    "# Verify that all transactions with code == '' are the same rows with missing Transaction Descriptions\n",
    "# If this weren't the case, then addTxnDesc would not have full coverage on all transaction codes\n",
    "\n",
    "set_of_empties = set(data[data['Transaction Code'] == ''][['Transaction Code','link']].index)\n",
    "set_of_nas = set(data[data['Transaction Description'].isna()][['Transaction Code','link']].index)\n",
    "\n",
    "list(set_of_empties- set_of_nas)"
   ]
  }
 ],
 "metadata": {
  "kernelspec": {
   "display_name": "Python 3.8.10 64-bit",
   "language": "python",
   "name": "python3"
  },
  "language_info": {
   "codemirror_mode": {
    "name": "ipython",
    "version": 3
   },
   "file_extension": ".py",
   "mimetype": "text/x-python",
   "name": "python",
   "nbconvert_exporter": "python",
   "pygments_lexer": "ipython3",
   "version": "3.8.10"
  },
  "orig_nbformat": 4,
  "vscode": {
   "interpreter": {
    "hash": "916dbcbb3f70747c44a77c7bcd40155683ae19c65e1c03b4aa3499c5328201f1"
   }
  }
 },
 "nbformat": 4,
 "nbformat_minor": 2
}
