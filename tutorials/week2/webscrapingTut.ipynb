{
 "cells": [
  {
   "cell_type": "code",
   "execution_count": 19,
   "metadata": {},
   "outputs": [],
   "source": [
    "import pandas as pd\n",
    "import numpy as np\n",
    "# New import\n",
    "import requests\n",
    "import datetime\n"
   ]
  },
  {
   "cell_type": "code",
   "execution_count": 11,
   "metadata": {},
   "outputs": [],
   "source": [
    "file_name = \"2020-qtr1-form4.json\"\n",
    "# Change relative file directory to match where the data is, but I'm pretty sure this should work if you've cloned the github\n",
    "data_directory = f\"../../data/{file_name}\"\n",
    "data = pd.read_json(data_directory)"
   ]
  },
  {
   "cell_type": "code",
   "execution_count": 16,
   "metadata": {},
   "outputs": [
    {
     "data": {
      "text/html": [
       "<div>\n",
       "<style scoped>\n",
       "    .dataframe tbody tr th:only-of-type {\n",
       "        vertical-align: middle;\n",
       "    }\n",
       "\n",
       "    .dataframe tbody tr th {\n",
       "        vertical-align: top;\n",
       "    }\n",
       "\n",
       "    .dataframe thead th {\n",
       "        text-align: right;\n",
       "    }\n",
       "</style>\n",
       "<table border=\"1\" class=\"dataframe\">\n",
       "  <thead>\n",
       "    <tr style=\"text-align: right;\">\n",
       "      <th></th>\n",
       "      <th>Ticker</th>\n",
       "      <th>Transaction Date</th>\n",
       "    </tr>\n",
       "  </thead>\n",
       "  <tbody>\n",
       "    <tr>\n",
       "      <th>0</th>\n",
       "      <td>FLWS</td>\n",
       "      <td>02/04/2020</td>\n",
       "    </tr>\n",
       "    <tr>\n",
       "      <th>1</th>\n",
       "      <td>GALT</td>\n",
       "      <td>01/17/2020</td>\n",
       "    </tr>\n",
       "    <tr>\n",
       "      <th>30</th>\n",
       "      <td>TXG</td>\n",
       "      <td>03/06/2020</td>\n",
       "    </tr>\n",
       "  </tbody>\n",
       "</table>\n",
       "</div>"
      ],
      "text/plain": [
       "   Ticker Transaction Date\n",
       "0    FLWS       02/04/2020\n",
       "1    GALT       01/17/2020\n",
       "30    TXG       03/06/2020"
      ]
     },
     "execution_count": 16,
     "metadata": {},
     "output_type": "execute_result"
    }
   ],
   "source": [
    "# Here is a random list of tickers just to get data\n",
    "tickers = data.loc[[0,1,30],['Ticker','Transaction Date']]\n",
    "tickers"
   ]
  },
  {
   "cell_type": "code",
   "execution_count": 25,
   "metadata": {},
   "outputs": [],
   "source": [
    "def get_return(ticker,date,interval_days=1):\n",
    "    # TODO: Get date (string: dd/mm/yyyy) into datetime.dateime format (just numbers)\n",
    "    # Hint: 1. .split on date 2. use datetime.datetime() & .timedelta() 3. use var.timestamp()\n",
    "    start_date = 0\n",
    "    end_date = 0\n",
    "\n",
    "    # Yahoo convention\n",
    "    interval= '1d' # '1wk' / '1mo' / '1yr'\n",
    "    event ='history'\n",
    "\n",
    "    url = 'https://query1.finance.yahoo.com/v7/finance/download/'      + ticker + '?period1=' + start_date + '&period2=' + end_date + '&interval='      + interval + '&events=' + event\n",
    "    spy_url = 'https://query1.finance.yahoo.com/v7/finance/download/'      + \"SPY\" + '?period1=' + start_date + '&period2=' + end_date + '&interval='      + interval + '&events=' + event\n",
    "    try:\n",
    "        b_data = pd.read_csv(url)\n",
    "        spy_data = pd.read_csv(spy_url)\n",
    "    except:\n",
    "        b_data = []\n",
    "        spy_data = []\n",
    "    return b_data,spy_data"
   ]
  },
  {
   "cell_type": "code",
   "execution_count": 20,
   "metadata": {},
   "outputs": [],
   "source": [
    "ticker_data, spy_data = get_return(\"TXG\",\"03/06/2020\",interval_days=1) # Example"
   ]
  }
 ],
 "metadata": {
  "kernelspec": {
   "display_name": "Python 3.7.3 32-bit",
   "language": "python",
   "name": "python3"
  },
  "language_info": {
   "codemirror_mode": {
    "name": "ipython",
    "version": 3
   },
   "file_extension": ".py",
   "mimetype": "text/x-python",
   "name": "python",
   "nbconvert_exporter": "python",
   "pygments_lexer": "ipython3",
   "version": "3.7.3"
  },
  "orig_nbformat": 4,
  "vscode": {
   "interpreter": {
    "hash": "7ca1d37080df844869cb5fbb735530790ceef82057d503d6f46d539fb117aae4"
   }
  }
 },
 "nbformat": 4,
 "nbformat_minor": 2
}
