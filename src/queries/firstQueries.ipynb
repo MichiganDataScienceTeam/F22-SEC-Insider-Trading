{
 "cells": [
  {
   "cell_type": "code",
   "execution_count": null,
   "metadata": {},
   "outputs": [],
   "source": [
    "import pandas as pd\n",
    "import numpy as np\n",
    "# New import\n",
    "import requests\n",
    "import datetime"
   ]
  },
  {
   "cell_type": "code",
   "execution_count": null,
   "metadata": {},
   "outputs": [],
   "source": [
    "file_name = \"data-txn-price-t36.json\"\n",
    "# Change relative file directory to match where the data is\n",
    "data_path = \"././data/\"\n",
    "data_directory = data_path + file_name\n",
    "data = pd.read_json(data_directory)"
   ]
  },
  {
   "cell_type": "markdown",
   "metadata": {},
   "source": [
    "## Which People/Companies do the best compared to the market?"
   ]
  },
  {
   "cell_type": "code",
   "execution_count": null,
   "metadata": {},
   "outputs": [],
   "source": []
  },
  {
   "cell_type": "markdown",
   "metadata": {},
   "source": [
    "## What is the overall distribution of returns for traders vs the market?\n",
    "1. The purpose of this is to get an overarching sense of insiders trading abilities."
   ]
  },
  {
   "cell_type": "code",
   "execution_count": null,
   "metadata": {},
   "outputs": [],
   "source": []
  },
  {
   "cell_type": "markdown",
   "metadata": {},
   "source": [
    "## Does higher trade amount correlate to higher returns?"
   ]
  },
  {
   "cell_type": "code",
   "execution_count": null,
   "metadata": {},
   "outputs": [],
   "source": []
  },
  {
   "cell_type": "markdown",
   "metadata": {},
   "source": [
    "## Does higher % change in ownership correlate to higher returns?\n",
    "1. Be careful when assessing how much someone \"owns\". Remember, insiders have to report that they own stock through many channels (retirement plans, through companies, through their spouses). E.g. https://www.sec.gov/Archives/edgar/data/9092/000120919120017801/xslF345X03/doc4.xml (ESSOP is an employee stock ownership plan)"
   ]
  },
  {
   "cell_type": "code",
   "execution_count": null,
   "metadata": {},
   "outputs": [],
   "source": []
  },
  {
   "cell_type": "markdown",
   "metadata": {},
   "source": [
    "## Do Cluster Buys correlate to higher returns?\n",
    "1. You have to define a \"cluster buy\" (all filed on same day? week? within 5 days of each other?)\n",
    "2. Somehow group these \"clusters\" and take the average of their returns to get the return for that cluster"
   ]
  },
  {
   "cell_type": "code",
   "execution_count": null,
   "metadata": {},
   "outputs": [],
   "source": []
  }
 ],
 "metadata": {
  "kernelspec": {
   "display_name": "Python 3.7.3 32-bit",
   "language": "python",
   "name": "python3"
  },
  "language_info": {
   "name": "python",
   "version": "3.7.3"
  },
  "orig_nbformat": 4,
  "vscode": {
   "interpreter": {
    "hash": "7ca1d37080df844869cb5fbb735530790ceef82057d503d6f46d539fb117aae4"
   }
  }
 },
 "nbformat": 4,
 "nbformat_minor": 2
}
