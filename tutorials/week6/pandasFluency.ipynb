{
 "cells": [
  {
   "cell_type": "markdown",
   "metadata": {},
   "source": [
    "## Import and Type Casting"
   ]
  },
  {
   "cell_type": "code",
   "execution_count": 77,
   "metadata": {},
   "outputs": [],
   "source": [
    "import pandas as pd\n",
    "pd.set_option(\"display.max_columns\", 40)\n",
    "import numpy as np\n",
    "# New import\n",
    "import matplotlib.pyplot as plt\n",
    "import datetime"
   ]
  },
  {
   "cell_type": "code",
   "execution_count": 34,
   "metadata": {},
   "outputs": [],
   "source": [
    "file_name = \"data-txn-price-t36.json\"\n",
    "# Change relative file directory to match where the data is\n",
    "data_path = \"../../data/\"\n",
    "data_directory = data_path + file_name\n",
    "data = pd.read_json(data_directory)\n",
    "# NOW need this everytime\n",
    "data['Transaction Date'] = pd.to_datetime(data['Transaction Date'],unit='ms',origin='unix')\n",
    "data['Filing Date'] = pd.to_datetime(data['Filing Date'])\n",
    "data['Earliest Transaction Date'] = pd.to_datetime(data['Earliest Transaction Date'])\n",
    "data['Price'] = pd.to_numeric(data['Price'].str.replace(',','').replace(\"$\",''),errors='coerce') # sets weird values to NA\n",
    "data['Amount'] = pd.to_numeric(data['Amount'].str.replace(',',''))\n",
    "data['Amount Owned After'] = pd.to_numeric(data['Amount Owned After'].str.replace(',',''),errors='coerce') # sets weird values to NA\n",
    "\n",
    "# Returns Columns\n",
    "data['Ticker 3 Month Returns'] = (data['Ticker Price 3 Months After Txn Date'] - data['Ticker Price At Txn Date']) / data['Ticker Price At Txn Date']\n",
    "data['Ticker 6 Month Returns'] = (data['Ticker Price 6 Months After Txn Date'] - data['Ticker Price At Txn Date']) / data['Ticker Price At Txn Date']\n",
    "data['SPY 3 Month Returns'] = (data['SPY Price 3 Months After Txn Date'] - data['SPY Price At Txn Date']) / data['SPY Price At Txn Date']\n",
    "data['SPY 6 Month Returns'] = (data['SPY Price 6 Months After Txn Date'] - data['SPY Price At Txn Date']) / data['SPY Price At Txn Date']"
   ]
  },
  {
   "cell_type": "code",
   "execution_count": 35,
   "metadata": {},
   "outputs": [
    {
     "data": {
      "text/plain": [
       "Filing Date                             datetime64[ns]\n",
       "Earliest Transaction Date               datetime64[ns]\n",
       "Ticker                                          object\n",
       "Company Name                                    object\n",
       "Insider Name                                    object\n",
       "isDirector                                        bool\n",
       "isOfficer                                         bool\n",
       "isOwner                                           bool\n",
       "isOther                                           bool\n",
       "Title                                           object\n",
       "Title of Security                               object\n",
       "Transaction Date                        datetime64[ns]\n",
       "Transaction Code                                object\n",
       "Amount                                         float64\n",
       "Acquired or Disposed                            object\n",
       "Price                                          float64\n",
       "Amount Owned After                             float64\n",
       "Ownership Form                                  object\n",
       "Nature of Indirect Ownership                    object\n",
       "link                                            object\n",
       "Ticker Price At Txn Date                       float64\n",
       "SPY Price At Txn Date                          float64\n",
       "Ticker Price 6 Months After Txn Date           float64\n",
       "SPY Price 6 Months After Txn Date              float64\n",
       "Ticker Price 3 Months After Txn Date           float64\n",
       "SPY Price 3 Months After Txn Date              float64\n",
       "Ticker 3 Month Returns                         float64\n",
       "Ticker 6 Month Returns                         float64\n",
       "SPY 3 Month Returns                            float64\n",
       "SPY 6 Month Returns                            float64\n",
       "dtype: object"
      ]
     },
     "execution_count": 35,
     "metadata": {},
     "output_type": "execute_result"
    }
   ],
   "source": [
    "data.dtypes"
   ]
  },
  {
   "cell_type": "markdown",
   "metadata": {},
   "source": [
    "## 1-liners"
   ]
  },
  {
   "cell_type": "code",
   "execution_count": 1,
   "metadata": {},
   "outputs": [
    {
     "data": {
      "text/plain": [
       "'\\nGet me the number of unique insiders\\n'"
      ]
     },
     "execution_count": 1,
     "metadata": {},
     "output_type": "execute_result"
    }
   ],
   "source": [
    "'''\n",
    "Get me the number of unique insiders\n",
    "'''\n"
   ]
  },
  {
   "cell_type": "code",
   "execution_count": 2,
   "metadata": {},
   "outputs": [
    {
     "data": {
      "text/plain": [
       "'\\nFind the right argument to pass to data.describe() that will print out info for all columns\\nThen, in the space below list out the columns with weird values\\n\\nWeird Columns = []\\n'"
      ]
     },
     "execution_count": 2,
     "metadata": {},
     "output_type": "execute_result"
    }
   ],
   "source": [
    "'''\n",
    "Find the right argument to pass to data.describe() that will print out info for all columns\n",
    "Then, in the space below list out the columns with weird values\n",
    "\n",
    "Weird Columns = []\n",
    "'''\n"
   ]
  },
  {
   "cell_type": "code",
   "execution_count": 3,
   "metadata": {},
   "outputs": [
    {
     "data": {
      "text/plain": [
       "\"\\n1. Perform an aggregation on Insider Name\\n2. Apply unique function to link column ('unique' not actually name of function. may have to google)\\n3. print out the top 10\\n\\nDo the same for 'Company Name'\\n\""
      ]
     },
     "execution_count": 3,
     "metadata": {},
     "output_type": "execute_result"
    }
   ],
   "source": [
    "'''\n",
    "1. Perform an aggregation on Insider Name\n",
    "2. Apply unique function to link column ('unique' not actually name of function. may have to google)\n",
    "3. print out the top 10\n",
    "\n",
    "Do the same for 'Company Name'\n",
    "'''\n"
   ]
  },
  {
   "cell_type": "code",
   "execution_count": 4,
   "metadata": {},
   "outputs": [
    {
     "data": {
      "text/plain": [
       "'\\nGet Top 10 Transaction Codes and their frequencies\\n'"
      ]
     },
     "execution_count": 4,
     "metadata": {},
     "output_type": "execute_result"
    }
   ],
   "source": [
    "'''\n",
    "Get Top 10 Transaction Codes and their frequencies\n",
    "'''\n"
   ]
  },
  {
   "cell_type": "markdown",
   "metadata": {},
   "source": [
    "## More Complex Stuff"
   ]
  },
  {
   "cell_type": "code",
   "execution_count": 5,
   "metadata": {},
   "outputs": [
    {
     "data": {
      "text/plain": [
       "\"\\n1. Make dataframe where all 'Transaction Date' entries are within the range: [Dec. 31, 2019, Mar. 31 2020] (12 weeks)\\n2. google 'make list of dates in certain range python' and do that with the range from above ^^^^^^^\\n3. fill acquired/disposed_list with count of A/D in result of 1 that fall within the ranges of date_range\\n4. Plot it\\n\""
      ]
     },
     "execution_count": 5,
     "metadata": {},
     "output_type": "execute_result"
    }
   ],
   "source": [
    "'''\n",
    "1. Make dataframe where all 'Transaction Date' entries are within the range: [Dec. 31, 2019, Mar. 31 2020] (12 weeks)\n",
    "2. google 'make list of dates in certain range python' and do that with the range from above ^^^^^^^\n",
    "3. fill acquired/disposed_list with count of A/D in result of 1 that fall within the ranges of date_range\n",
    "4. Plot it\n",
    "'''\n"
   ]
  },
  {
   "cell_type": "code",
   "execution_count": null,
   "metadata": {},
   "outputs": [],
   "source": []
  }
 ],
 "metadata": {
  "kernelspec": {
   "display_name": "Python 3.8.8 ('base')",
   "language": "python",
   "name": "python3"
  },
  "language_info": {
   "codemirror_mode": {
    "name": "ipython",
    "version": 3
   },
   "file_extension": ".py",
   "mimetype": "text/x-python",
   "name": "python",
   "nbconvert_exporter": "python",
   "pygments_lexer": "ipython3",
   "version": "3.8.8"
  },
  "orig_nbformat": 4,
  "vscode": {
   "interpreter": {
    "hash": "8a0189646c4f4b66c0a2fd8f3176b86105807ba838d89d866e5bf21e39bfdcb8"
   }
  }
 },
 "nbformat": 4,
 "nbformat_minor": 2
}
